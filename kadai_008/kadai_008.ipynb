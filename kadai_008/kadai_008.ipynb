{
  "nbformat": 4,
  "nbformat_minor": 0,
  "metadata": {
    "colab": {
      "provenance": []
    },
    "kernelspec": {
      "name": "python3",
      "display_name": "Python 3"
    },
    "language_info": {
      "name": "python"
    }
  },
  "cells": [
    {
      "cell_type": "code",
      "source": [
        "# Step1\n",
        "# 1.サンプルデータの取得\n",
        "import pandas as pd\n",
        "from sklearn.datasets import load_wine\n",
        "dataset = load_wine()\n",
        "df = pd.DataFrame(data=dataset.data, columns=dataset.feature_names)\n",
        "df['category'] =dataset.target\n",
        "\n",
        "# 2.サンプルデータの分割\n",
        "X = dataset.data\n",
        "y = dataset.target\n",
        "from sklearn.model_selection import train_test_split\n",
        "X_train, X_test, y_train, y_test = train_test_split(X, y, test_size=0.3, random_state=5)\n",
        "\n",
        "# Step2\n",
        "# 3.予測モデルのインスタント化\n",
        "from sklearn.ensemble import RandomForestClassifier\n",
        "model = RandomForestClassifier(random_state=3)\n",
        "\n",
        "# 4.予測モデルの学習\n",
        "model.fit(X_train, y_train)\n",
        "\n",
        "# 5.予測モデルの評価\n",
        "y_pred = model.predict(X_test)\n",
        "from sklearn.metrics import accuracy_score\n",
        "accuracy_score(y_test, y_pred)\n"
      ],
      "metadata": {
        "collapsed": true,
        "colab": {
          "base_uri": "https://localhost:8080/"
        },
        "id": "GUeklW2-p2vD",
        "outputId": "d2c8b33d-ccd8-40d2-e839-a8e88d0582d2"
      },
      "execution_count": 16,
      "outputs": [
        {
          "output_type": "execute_result",
          "data": {
            "text/plain": [
              "0.9629629629629629"
            ]
          },
          "metadata": {},
          "execution_count": 16
        }
      ]
    },
    {
      "cell_type": "code",
      "source": [],
      "metadata": {
        "id": "At6PXy3Qilkj"
      },
      "execution_count": null,
      "outputs": []
    }
  ]
}